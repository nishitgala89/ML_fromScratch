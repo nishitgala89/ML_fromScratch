{
  "nbformat": 4,
  "nbformat_minor": 0,
  "metadata": {
    "colab": {
      "name": "LinearRegression_fromScratch.ipynb",
      "provenance": [],
      "collapsed_sections": [
        "nnIx9Lc2a-QE"
      ],
      "authorship_tag": "ABX9TyPqfwfHyrCN+kiAAHxbE2Kj",
      "include_colab_link": true
    },
    "kernelspec": {
      "name": "python3",
      "display_name": "Python 3"
    },
    "language_info": {
      "name": "python"
    }
  },
  "cells": [
    {
      "cell_type": "markdown",
      "metadata": {
        "id": "view-in-github",
        "colab_type": "text"
      },
      "source": [
        "<a href=\"https://colab.research.google.com/github/nishitgala89/ML_fromScratch/blob/main/LinearRegression_fromScratch.ipynb\" target=\"_parent\"><img src=\"https://colab.research.google.com/assets/colab-badge.svg\" alt=\"Open In Colab\"/></a>"
      ]
    },
    {
      "cell_type": "markdown",
      "source": [
        "# Linear Regression"
      ],
      "metadata": {
        "id": "-hoPHY_5PIT-"
      }
    },
    {
      "cell_type": "markdown",
      "source": [
        "The Goal is to learn a linear model $\\hat{y}$ that models $y$ given $X$. \n",
        "\n",
        "$\\hat{y} = XW + b$\n",
        "* $\\hat{y}$ = predictions | $\\in \\mathbb{R}^{NX1}$ ($N$ is the number of samples)\n",
        "* $X$ = inputs | $\\in \\mathbb{R}^{NXD}$ ($D$ is the number of features)\n",
        "* $W$ = weights | $\\in \\mathbb{R}^{DX1}$ \n",
        "* $b$ = bias | $\\in \\mathbb{R}^{1}$ "
      ],
      "metadata": {
        "id": "p4Tp-g3iPCZN"
      }
    },
    {
      "cell_type": "markdown",
      "source": [
        "* **Objective:**  Use inputs $X$ to predict the output $\\hat{y}$ using a linear model. The model will be a line of best fit that minimizes the distance between the predicted (model's output) and target (ground truth) values. Training data $(X, y)$ is used to train the model and learn the weights $W$ using gradient descent.\n",
        "* **Advantages:**\n",
        "  * Computationally simple.\n",
        "  * Highly interpretable.\n",
        "  * Can account for continuous and categorical features.\n",
        "* **Disadvantages:**\n",
        "  * The model will perform well only when the data is linearly separable (for classification).\n",
        "  * Usually not used for classification and only for regression.\n",
        "* **Miscellaneous:** You can also use linear regression for binary classification tasks where if the predicted continuous value is above a threshold, it belongs to a certain class. But we will cover better techniques for classification in future lessons and will focus on linear regression for continuous regression tasks only.\n"
      ],
      "metadata": {
        "id": "70sa04HxPRRV"
      }
    },
    {
      "cell_type": "markdown",
      "source": [
        "# Create Data"
      ],
      "metadata": {
        "id": "AdrNtfj9PzJn"
      }
    },
    {
      "cell_type": "code",
      "execution_count": 1,
      "metadata": {
        "id": "6S7qbDHYOi79"
      },
      "outputs": [],
      "source": [
        "import numpy as np\n",
        "import pandas as pd\n",
        "import matplotlib.pyplot as plt"
      ]
    },
    {
      "cell_type": "code",
      "source": [
        "SEED = 42\n",
        "SAMPLE_SIZE=200\n",
        "\n",
        "# Set seed for numpy\n",
        "np.random.seed(SEED)"
      ],
      "metadata": {
        "id": "Si1PNICQPwDI"
      },
      "execution_count": 2,
      "outputs": []
    },
    {
      "cell_type": "code",
      "source": [
        "# Generate Data\n",
        "\n",
        "X = np.array(range(SAMPLE_SIZE))\n",
        "noise = np.random.uniform(-10,20,size=SAMPLE_SIZE)\n",
        "y = 2.5 * X + 4  + noise"
      ],
      "metadata": {
        "id": "v-qOQLLYQCRO"
      },
      "execution_count": 3,
      "outputs": []
    },
    {
      "cell_type": "code",
      "source": [
        "# Scatter plot\n",
        "plt.title(\"Generated data\")\n",
        "plt.scatter(x=X, y=y)\n",
        "plt.show()"
      ],
      "metadata": {
        "colab": {
          "base_uri": "https://localhost:8080/",
          "height": 281
        },
        "id": "SOW6x4JrQpWL",
        "outputId": "8f1d52e4-2eee-4fcc-a6eb-2a5b4cf5ffda"
      },
      "execution_count": 4,
      "outputs": [
        {
          "output_type": "display_data",
          "data": {
            "image/png": "[encoded data removed]",
            "text/plain": [
              "<Figure size 432x288 with 1 Axes>"
            ]
          },
          "metadata": {
            "needs_background": "light"
          }
        }
      ]
    },
    {
      "cell_type": "code",
      "source": [
        "# Stack Data as [X,y] in numpy array\n",
        "data = np.vstack([X, y]).T"
      ],
      "metadata": {
        "id": "dpiB_C6iSE18"
      },
      "execution_count": 5,
      "outputs": []
    },
    {
      "cell_type": "code",
      "source": [
        "#Load data in Pandas Dataframe\n",
        "df = pd.DataFrame(data, columns=[\"X\", \"y\"])\n",
        "X = df[[\"X\"]].values\n",
        "y = df[[\"y\"]].values\n",
        "df.head()"
      ],
      "metadata": {
        "colab": {
          "base_uri": "https://localhost:8080/",
          "height": 206
        },
        "id": "yGDK2ukRR_Om",
        "outputId": "2925b4aa-8b0f-48dd-9103-d3fe95dc7aae"
      },
      "execution_count": 6,
      "outputs": [
        {
          "output_type": "execute_result",
          "data": {
            "text/html": [
              "\n",
              "  <div id=\"df-ea8736e0-3436-4b6f-92e8-0374e9665363\">\n",
              "    <div class=\"colab-df-container\">\n",
              "      <div>\n",
              "<style scoped>\n",
              "    .dataframe tbody tr th:only-of-type {\n",
              "        vertical-align: middle;\n",
              "    }\n",
              "\n",
              "    .dataframe tbody tr th {\n",
              "        vertical-align: top;\n",
              "    }\n",
              "\n",
              "    .dataframe thead th {\n",
              "        text-align: right;\n",
              "    }\n",
              "</style>\n",
              "<table border=\"1\" class=\"dataframe\">\n",
              "  <thead>\n",
              "    <tr style=\"text-align: right;\">\n",
              "      <th></th>\n",
              "      <th>X</th>\n",
              "      <th>y</th>\n",
              "    </tr>\n",
              "  </thead>\n",
              "  <tbody>\n",
              "    <tr>\n",
              "      <th>0</th>\n",
              "      <td>0.0</td>\n",
              "      <td>5.236204</td>\n",
              "    </tr>\n",
              "    <tr>\n",
              "      <th>1</th>\n",
              "      <td>1.0</td>\n",
              "      <td>25.021429</td>\n",
              "    </tr>\n",
              "    <tr>\n",
              "      <th>2</th>\n",
              "      <td>2.0</td>\n",
              "      <td>20.959818</td>\n",
              "    </tr>\n",
              "    <tr>\n",
              "      <th>3</th>\n",
              "      <td>3.0</td>\n",
              "      <td>19.459755</td>\n",
              "    </tr>\n",
              "    <tr>\n",
              "      <th>4</th>\n",
              "      <td>4.0</td>\n",
              "      <td>8.680559</td>\n",
              "    </tr>\n",
              "  </tbody>\n",
              "</table>\n",
              "</div>\n",
              "      <button class=\"colab-df-convert\" onclick=\"convertToInteractive('df-ea8736e0-3436-4b6f-92e8-0374e9665363')\"\n",
              "              title=\"Convert this dataframe to an interactive table.\"\n",
              "              style=\"display:none;\">\n",
              "        \n",
              "  <svg xmlns=\"http://www.w3.org/2000/svg\" height=\"24px\"viewBox=\"0 0 24 24\"\n",
              "       width=\"24px\">\n",
              "    <path d=\"M0 0h24v24H0V0z\" fill=\"none\"/>\n",
              "    <path d=\"M18.56 5.44l.94 2.06.94-2.06 2.06-.94-2.06-.94-.94-2.06-.94 2.06-2.06.94zm-11 1L8.5 8.5l.94-2.06 2.06-.94-2.06-.94L8.5 2.5l-.94 2.06-2.06.94zm10 10l.94 2.06.94-2.06 2.06-.94-2.06-.94-.94-2.06-.94 2.06-2.06.94z\"/><path d=\"M17.41 7.96l-1.37-1.37c-.4-.4-.92-.59-1.43-.59-.52 0-1.04.2-1.43.59L10.3 9.45l-7.72 7.72c-.78.78-.78 2.05 0 2.83L4 21.41c.39.39.9.59 1.41.59.51 0 1.02-.2 1.41-.59l7.78-7.78 2.81-2.81c.8-.78.8-2.07 0-2.86zM5.41 20L4 18.59l7.72-7.72 1.47 1.35L5.41 20z\"/>\n",
              "  </svg>\n",
              "      </button>\n",
              "      \n",
              "  <style>\n",
              "    .colab-df-container {\n",
              "      display:flex;\n",
              "      flex-wrap:wrap;\n",
              "      gap: 12px;\n",
              "    }\n",
              "\n",
              "    .colab-df-convert {\n",
              "      background-color: #E8F0FE;\n",
              "      border: none;\n",
              "      border-radius: 50%;\n",
              "      cursor: pointer;\n",
              "      display: none;\n",
              "      fill: #1967D2;\n",
              "      height: 32px;\n",
              "      padding: 0 0 0 0;\n",
              "      width: 32px;\n",
              "    }\n",
              "\n",
              "    .colab-df-convert:hover {\n",
              "      background-color: #E2EBFA;\n",
              "      box-shadow: 0px 1px 2px rgba(60, 64, 67, 0.3), 0px 1px 3px 1px rgba(60, 64, 67, 0.15);\n",
              "      fill: #174EA6;\n",
              "    }\n",
              "\n",
              "    [theme=dark] .colab-df-convert {\n",
              "      background-color: #3B4455;\n",
              "      fill: #D2E3FC;\n",
              "    }\n",
              "\n",
              "    [theme=dark] .colab-df-convert:hover {\n",
              "      background-color: #434B5C;\n",
              "      box-shadow: 0px 1px 3px 1px rgba(0, 0, 0, 0.15);\n",
              "      filter: drop-shadow(0px 1px 2px rgba(0, 0, 0, 0.3));\n",
              "      fill: #FFFFFF;\n",
              "    }\n",
              "  </style>\n",
              "\n",
              "      <script>\n",
              "        const buttonEl =\n",
              "          document.querySelector('#df-ea8736e0-3436-4b6f-92e8-0374e9665363 button.colab-df-convert');\n",
              "        buttonEl.style.display =\n",
              "          google.colab.kernel.accessAllowed ? 'block' : 'none';\n",
              "\n",
              "        async function convertToInteractive(key) {\n",
              "          const element = document.querySelector('#df-ea8736e0-3436-4b6f-92e8-0374e9665363');\n",
              "          const dataTable =\n",
              "            await google.colab.kernel.invokeFunction('convertToInteractive',\n",
              "                                                     [key], {});\n",
              "          if (!dataTable) return;\n",
              "\n",
              "          const docLinkHtml = 'Like what you see? Visit the ' +\n",
              "            '<a target=\"_blank\" href=https://colab.research.google.com/notebooks/data_table.ipynb>data table notebook</a>'\n",
              "            + ' to learn more about interactive tables.';\n",
              "          element.innerHTML = '';\n",
              "          dataTable['output_type'] = 'display_data';\n",
              "          await google.colab.output.renderOutput(dataTable, element);\n",
              "          const docLink = document.createElement('div');\n",
              "          docLink.innerHTML = docLinkHtml;\n",
              "          element.appendChild(docLink);\n",
              "        }\n",
              "      </script>\n",
              "    </div>\n",
              "  </div>\n",
              "  "
            ],
            "text/plain": [
              "     X          y\n",
              "0  0.0   5.236204\n",
              "1  1.0  25.021429\n",
              "2  2.0  20.959818\n",
              "3  3.0  19.459755\n",
              "4  4.0   8.680559"
            ]
          },
          "metadata": {},
          "execution_count": 6
        }
      ]
    },
    {
      "cell_type": "markdown",
      "source": [
        "# Split Data into Training and Testing"
      ],
      "metadata": {
        "id": "HHj_l17vRMyY"
      }
    },
    {
      "cell_type": "code",
      "source": [
        "TRAIN_SIZE = 0.8\n",
        "TEST_SIZE = 0.2"
      ],
      "metadata": {
        "id": "tKXqvIKsRQg3"
      },
      "execution_count": 7,
      "outputs": []
    },
    {
      "cell_type": "code",
      "source": [
        "#Shuffle Data\n",
        "indices = list(range(SAMPLE_SIZE))\n",
        "np.random.shuffle(indices)\n",
        "np.array(indices)"
      ],
      "metadata": {
        "colab": {
          "base_uri": "https://localhost:8080/"
        },
        "id": "u-QWSfQ_RX-k",
        "outputId": "0875ff6a-ada9-4622-fa25-fa48d5b242c8"
      },
      "execution_count": 8,
      "outputs": [
        {
          "output_type": "execute_result",
          "data": {
            "text/plain": [
              "array([ 78,  55, 171, 100,  63, 182,  30, 117, 191,  10,   9, 125,  79,\n",
              "       131,  28,  70,  93, 167,  40, 189,  43, 195,   2,  71,  77, 106,\n",
              "        97, 132,  95, 164,  82, 179, 184, 120,  33, 197,   0,  11, 153,\n",
              "       119, 185, 140, 104, 154, 155, 177,  18,  88,  72, 102,  99,  90,\n",
              "        58,  39,  54, 148, 121, 156,  73,  84, 136, 143, 149, 107,   4,\n",
              "        68,  52,  91, 196, 129,  87,  69, 170,  51, 174,  76,  80, 194,\n",
              "        61, 192, 128, 101, 161,  62, 122, 166,  14,  86,  75,  13,  15,\n",
              "       180,  64,  19,  44,  35,  56,   6,  59,  12, 124, 130,  49, 172,\n",
              "        25,  41, 138,  38, 199,  42,   8, 181, 126, 150,  89,   1, 105,\n",
              "       158,  65,  22,  85,  46,  31, 113, 139, 137, 193, 133,  57, 183,\n",
              "        24,  17, 169,  66, 198, 142,  94, 187, 188,  23,  36, 123, 190,\n",
              "         5, 116,  45,  16,  48,  34,   3, 146, 175,  60, 110,  27,  96,\n",
              "        29, 176, 159,  26,   7,  50, 108,  37, 157,  21, 118, 114, 178,\n",
              "       173, 144, 134, 135, 186, 147,  47,  20, 141,  32,  67, 160, 168,\n",
              "       162,  53,  81, 109, 127, 145,  92, 152,  98, 111,  83, 103, 165,\n",
              "       163, 112,  74, 115, 151])"
            ]
          },
          "metadata": {},
          "execution_count": 8
        }
      ]
    },
    {
      "cell_type": "code",
      "source": [
        "X = X[indices]\n",
        "y = y[indices]"
      ],
      "metadata": {
        "id": "989_xJqQRs7x"
      },
      "execution_count": 9,
      "outputs": []
    },
    {
      "cell_type": "code",
      "source": [
        "X_train = X[0:int(SAMPLE_SIZE * TRAIN_SIZE)]\n",
        "y_train = y[0:int(SAMPLE_SIZE * TRAIN_SIZE)]\n",
        "\n",
        "X_test = X[int(SAMPLE_SIZE * TRAIN_SIZE):]\n",
        "y_test = y[int(SAMPLE_SIZE * TRAIN_SIZE):]\n",
        "\n",
        "X_train.shape, y_train.shape, X_test.shape,y_test.shape"
      ],
      "metadata": {
        "colab": {
          "base_uri": "https://localhost:8080/"
        },
        "id": "YF9qSKXvSXcD",
        "outputId": "2b8f2b43-d58e-49ff-81e2-a7d78e05e811"
      },
      "execution_count": 10,
      "outputs": [
        {
          "output_type": "execute_result",
          "data": {
            "text/plain": [
              "((160, 1), (160, 1), (40, 1), (40, 1))"
            ]
          },
          "metadata": {},
          "execution_count": 10
        }
      ]
    },
    {
      "cell_type": "code",
      "source": [
        "np.array(y_train)"
      ],
      "metadata": {
        "colab": {
          "base_uri": "https://localhost:8080/"
        },
        "id": "UPC-ok4Y2WaA",
        "outputId": "1bf90950-5464-4656-f70a-6afa30fabc83"
      },
      "execution_count": 11,
      "outputs": [
        {
          "output_type": "execute_result",
          "data": {
            "text/plain": [
              "array([[199.75397186],\n",
              "       [159.15622705],\n",
              "       [421.99763487],\n",
              "       [244.94287557],\n",
              "       [162.2025998 ],\n",
              "       [476.74080855],\n",
              "       [ 87.22634556],\n",
              "       [292.09710177],\n",
              "       [498.41647274],\n",
              "       [ 19.61753483],\n",
              "       [ 37.74217733],\n",
              "       [319.31323366],\n",
              "       [194.97607179],\n",
              "       [328.16323431],\n",
              "       [ 81.77243707],\n",
              "       [192.16734308],\n",
              "       [243.33831593],\n",
              "       [417.09555531],\n",
              "       [ 97.66114705],\n",
              "       [473.75556873],\n",
              "       [128.77961206],\n",
              "       [491.97628724],\n",
              "       [ 20.95981825],\n",
              "       [177.46147045],\n",
              "       [188.72133955],\n",
              "       [271.31148769],\n",
              "       [249.32623055],\n",
              "       [327.59596102],\n",
              "       [246.31386789],\n",
              "       [406.7086931 ],\n",
              "       [208.92694075],\n",
              "       [445.62562832],\n",
              "       [461.73824883],\n",
              "       [318.22320465],\n",
              "       [104.96656612],\n",
              "       [513.4133078 ],\n",
              "       [  5.23620357],\n",
              "       [ 50.59729556],\n",
              "       [391.18358281],\n",
              "       [307.68026726],\n",
              "       [476.29952138],\n",
              "       [372.87341885],\n",
              "       [281.22699422],\n",
              "       [408.56951362],\n",
              "       [388.76165815],\n",
              "       [448.10206039],\n",
              "       [ 51.95835056],\n",
              "       [240.61638228],\n",
              "       [174.16566351],\n",
              "       [258.43067943],\n",
              "       [244.73674281],\n",
              "       [222.58782738],\n",
              "       [140.35681867],\n",
              "       [104.70457481],\n",
              "       [146.93699936],\n",
              "       [365.54436254],\n",
              "       [323.382739  ],\n",
              "       [404.16406642],\n",
              "       [200.96384285],\n",
              "       [213.32946965],\n",
              "       [349.56371865],\n",
              "       [360.52634929],\n",
              "       [374.85939393],\n",
              "       [284.16653416],\n",
              "       [  8.68055921],\n",
              "       [166.23651931],\n",
              "       [152.18496825],\n",
              "       [242.89734362],\n",
              "       [505.77867037],\n",
              "       [331.82241908],\n",
              "       [230.62672414],\n",
              "       [196.1066081 ],\n",
              "       [439.32693086],\n",
              "       [144.7539847 ],\n",
              "       [448.35518371],\n",
              "       [207.1381104 ],\n",
              "       [219.89310278],\n",
              "       [489.17089373],\n",
              "       [154.64047095],\n",
              "       [501.01254171],\n",
              "       [314.20856392],\n",
              "       [265.59231234],\n",
              "       [415.46917492],\n",
              "       [173.86212527],\n",
              "       [308.54010425],\n",
              "       [418.62340195],\n",
              "       [ 34.45474902],\n",
              "       [230.88818535],\n",
              "       [203.37021504],\n",
              "       [ 32.87017332],\n",
              "       [ 37.0021353 ],\n",
              "       [454.23199053],\n",
              "       [162.42803529],\n",
              "       [ 50.23687421],\n",
              "       [111.76339945],\n",
              "       [105.75192044],\n",
              "       [136.65477506],\n",
              "       [ 10.74250837],\n",
              "       [151.25990992],\n",
              "       [ 48.97327922],\n",
              "       [310.83805488],\n",
              "       [331.52233009],\n",
              "       [122.04563367],\n",
              "       [439.36279175],\n",
              "       [ 80.05527884],\n",
              "       [111.3553073 ],\n",
              "       [349.90888807],\n",
              "       [109.5269908 ],\n",
              "       [514.89626638],\n",
              "       [100.03165563],\n",
              "       [ 32.03345035],\n",
              "       [449.90420564],\n",
              "       [333.54044298],\n",
              "       [396.24797658],\n",
              "       [230.66644775],\n",
              "       [ 25.02142919],\n",
              "       [263.97876687],\n",
              "       [396.12912632],\n",
              "       [172.78088249],\n",
              "       [ 57.76433946],\n",
              "       [216.25549966],\n",
              "       [118.35133228],\n",
              "       [ 76.61572371],\n",
              "       [300.74361139],\n",
              "       [370.65346248],\n",
              "       [357.59056877],\n",
              "       [495.49304372],\n",
              "       [336.62845514],\n",
              "       [142.37948587],\n",
              "       [477.8201806 ],\n",
              "       [ 67.68209953],\n",
              "       [ 52.24269295],\n",
              "       [434.2267883 ],\n",
              "       [163.22772675],\n",
              "       [515.61259273],\n",
              "       [363.91745518],\n",
              "       [252.1290154 ],\n",
              "       [478.15602435],\n",
              "       [479.88951735],\n",
              "       [ 62.4908553 ],\n",
              "       [ 93.13841308],\n",
              "       [304.80155774],\n",
              "       [471.79308303],\n",
              "       [ 11.17983561],\n",
              "       [308.11016231],\n",
              "       [126.37566853],\n",
              "       [ 43.12726729],\n",
              "       [130.40130838],\n",
              "       [107.96896099],\n",
              "       [ 19.45975453],\n",
              "       [377.28693002],\n",
              "       [436.73099287],\n",
              "       [155.66031869],\n",
              "       [277.69254359],\n",
              "       [ 76.92703315],\n",
              "       [249.68198488],\n",
              "       [ 67.89351238],\n",
              "       [454.72813214],\n",
              "       [413.34649046],\n",
              "       [ 64.99021346]])"
            ]
          },
          "metadata": {},
          "execution_count": 11
        }
      ]
    },
    {
      "cell_type": "markdown",
      "source": [
        "# Standardize the values"
      ],
      "metadata": {
        "id": "fufX8YMVTh_V"
      }
    },
    {
      "cell_type": "markdown",
      "source": [
        "We need to standardize our data (zero mean and unit variance) so a specific feature's magnitude doesn't affect how the model learns its weights.\n",
        "\n",
        "$z = \\frac{x_i - \\mu}{\\sigma}$\n",
        "* $z$ = standardized value\n",
        "* $x_i$ = inputs\n",
        "* $\\mu$ = mean\n",
        "* $\\sigma$ = standard deviation"
      ],
      "metadata": {
        "id": "BOtoRAl_TnY6"
      }
    },
    {
      "cell_type": "code",
      "source": [
        "# The mean, standard deviation will be calculated for the training data and applied to both training and testing data\n",
        "# The reason is that test data should be kept unseen to avoid the biasing of the trianing process\n",
        "\n",
        "X_mean = np.mean(X_train)\n",
        "X_std = np.std(X_train)\n",
        "y_mean = np.mean(y_train)\n",
        "y_std = np.std(y_train)"
      ],
      "metadata": {
        "id": "kZpDHA0qTbGk"
      },
      "execution_count": 12,
      "outputs": []
    },
    {
      "cell_type": "code",
      "source": [
        "def standardize_data(data, mean, std):\n",
        "    return (data - mean)/std"
      ],
      "metadata": {
        "id": "QpYzNPq2UIzV"
      },
      "execution_count": 13,
      "outputs": []
    },
    {
      "cell_type": "code",
      "source": [
        "X_train = standardize_data(X_train, X_mean, X_std)\n",
        "y_train = standardize_data(y_train, y_mean, y_std)\n",
        "\n",
        "X_test = standardize_data(X_test, X_mean, X_std)\n",
        "y_test = standardize_data(y_test, y_mean, y_std)"
      ],
      "metadata": {
        "id": "O3H64rFtUTlK"
      },
      "execution_count": 14,
      "outputs": []
    },
    {
      "cell_type": "code",
      "source": [
        "X_train[1:3]"
      ],
      "metadata": {
        "colab": {
          "base_uri": "https://localhost:8080/"
        },
        "id": "Fs2NesB6VCIZ",
        "outputId": "0520f8bf-3724-4f4a-8953-c218cfea14db"
      },
      "execution_count": 15,
      "outputs": [
        {
          "output_type": "execute_result",
          "data": {
            "text/plain": [
              "array([[-0.70031987],\n",
              "       [ 1.25132229]])"
            ]
          },
          "metadata": {},
          "execution_count": 15
        }
      ]
    },
    {
      "cell_type": "code",
      "source": [
        "# Check (means should be ~0 and std should be ~1)\n",
        "print (f\"mean: {np.mean(X_train):.1f}, std: {np.std(X_train):.1f}\")\n",
        "print (f\"mean: {np.mean(y_train):.1f}, std: {np.std(y_train):.1f}\")"
      ],
      "metadata": {
        "colab": {
          "base_uri": "https://localhost:8080/"
        },
        "id": "7Wnsf-rzWi4p",
        "outputId": "bd41d07c-7603-4edc-932f-e395fa62f2b7"
      },
      "execution_count": 16,
      "outputs": [
        {
          "output_type": "stream",
          "name": "stdout",
          "text": [
            "mean: -0.0, std: 1.0\n",
            "mean: 0.0, std: 1.0\n"
          ]
        }
      ]
    },
    {
      "cell_type": "code",
      "source": [
        "print (f\"mean: {np.mean(X_test):.1f}, std: {np.std(X_test):.1f}\")\n",
        "print (f\"mean: {np.mean(y_test):.1f}, std: {np.std(y_test):.1f}\")"
      ],
      "metadata": {
        "colab": {
          "base_uri": "https://localhost:8080/"
        },
        "id": "lfNJ98feWQsB",
        "outputId": "894df0a4-28eb-4782-9621-b9d4b3aed9f3"
      },
      "execution_count": 17,
      "outputs": [
        {
          "output_type": "stream",
          "name": "stdout",
          "text": [
            "mean: 0.2, std: 0.8\n",
            "mean: 0.2, std: 0.8\n"
          ]
        }
      ]
    },
    {
      "cell_type": "markdown",
      "source": [
        "#Weight Initialization"
      ],
      "metadata": {
        "id": "nnIx9Lc2a-QE"
      }
    },
    {
      "cell_type": "markdown",
      "source": [
        "Our goal is to learn a linear model $\\hat{y}$ that models $y$ given $X$. \n",
        "\n",
        "$\\hat{y} = XW + b$\n",
        "* $\\hat{y}$ = predictions | $\\in \\mathbb{R}^{NX1}$ ($N$ is the number of samples)\n",
        "* $X$ = inputs | $\\in \\mathbb{R}^{NXD}$ ($D$ is the number of features)\n",
        "* $W$ = weights | $\\in \\mathbb{R}^{DX1}$ \n",
        "* $b$ = bias | $\\in \\mathbb{R}^{1}$ "
      ],
      "metadata": {
        "id": "h_lKIwmFbA84"
      }
    },
    {
      "cell_type": "markdown",
      "source": [
        "1. Randomly initialize the model's weights $W$."
      ],
      "metadata": {
        "id": "94kmTmBDdr5r"
      }
    },
    {
      "cell_type": "code",
      "source": [
        "# Random Weights\n",
        "W = 0.0105 * np.random.randn(1,1)\n",
        "b = np.zeros((1,1))\n",
        "print(W), print(b)"
      ],
      "metadata": {
        "colab": {
          "base_uri": "https://localhost:8080/"
        },
        "id": "SC7zlzT6a5OG",
        "outputId": "7067eea0-489b-4bab-d5d5-74419e3bf90e"
      },
      "execution_count": 18,
      "outputs": [
        {
          "output_type": "stream",
          "name": "stdout",
          "text": [
            "[[1.90429175e-05]]\n",
            "[[0.]]\n"
          ]
        },
        {
          "output_type": "execute_result",
          "data": {
            "text/plain": [
              "(None, None)"
            ]
          },
          "metadata": {},
          "execution_count": 18
        }
      ]
    },
    {
      "cell_type": "markdown",
      "source": [
        "#Model"
      ],
      "metadata": {
        "id": "deNfTEhCcq1R"
      }
    },
    {
      "cell_type": "markdown",
      "source": [
        "2. Feed inputs $X$ into the model to receive the predictions $\\hat{y}$.\n",
        "  * $\\hat{y} = XW + b$"
      ],
      "metadata": {
        "id": "mvfqg4gbcp7B"
      }
    },
    {
      "cell_type": "code",
      "source": [
        "# Forward pass [NX1] · [1X1] = [NX1]\n",
        "y_hat = np.dot(X_train, W) + b\n",
        "print (f\"y_pred: {y_hat.shape}\")"
      ],
      "metadata": {
        "colab": {
          "base_uri": "https://localhost:8080/"
        },
        "id": "khtRo5QicmZx",
        "outputId": "f98099cf-90ab-4f27-d8f6-f099fcc58c14"
      },
      "execution_count": 19,
      "outputs": [
        {
          "output_type": "stream",
          "name": "stdout",
          "text": [
            "y_pred: (160, 1)\n"
          ]
        }
      ]
    },
    {
      "cell_type": "markdown",
      "source": [
        "#Loss"
      ],
      "metadata": {
        "id": "wexFPICFc53h"
      }
    },
    {
      "cell_type": "markdown",
      "source": [
        "3. Compare the predictions $\\hat{y}$ with the actual target values $y$ using the objective (cost) function to determine the loss $J$. A common objective function for linear regression is mean squarred error (MSE). This function calculates the difference between the predicted and target values and squares it.\n",
        "\n",
        "  * $J(\\theta) = MSE = \\frac{1}{N} \\sum_{i-1}^{N} (y_i - \\hat{y}_i)^2 $\n",
        "    * ${y}$ = ground truth | $\\in \\mathbb{R}^{NX1}$\n",
        "    * $\\hat{y}$ = predictions | $\\in \\mathbb{R}^{NX1}$"
      ],
      "metadata": {
        "id": "cJaLQLd9c8j7"
      }
    },
    {
      "cell_type": "code",
      "source": [
        "N = len(y_train)\n",
        "loss = (1/N) * np.sum((y_train - y_hat)**2)\n",
        "print (f\"loss: {loss:.2f}\")"
      ],
      "metadata": {
        "colab": {
          "base_uri": "https://localhost:8080/"
        },
        "id": "KwX3paPxc7fg",
        "outputId": "4fe97db8-cecd-4878-9680-4a2b01ba3d13"
      },
      "execution_count": 20,
      "outputs": [
        {
          "output_type": "stream",
          "name": "stdout",
          "text": [
            "loss: 1.00\n"
          ]
        }
      ]
    },
    {
      "cell_type": "markdown",
      "source": [
        "#Gradients"
      ],
      "metadata": {
        "id": "Ta4fAbXOdIAS"
      }
    },
    {
      "cell_type": "markdown",
      "source": [
        "4. Calculate the gradient of loss $J(\\theta)$ w.r.t to the model weights.\n",
        "  * $J(\\theta) = \\frac{1}{N} \\sum_i (y_i - \\hat{y}_i)^2  = \\frac{1}{N}\\sum_i (y_i - X_iW)^2 $\n",
        "    * $\\frac{\\partial{J}}{\\partial{W}} = -\\frac{2}{N} \\sum_i (y_i - X_iW) X_i = -\\frac{2}{N} \\sum_i (y_i - \\hat{y}_i) X_i$\n",
        "    * $\\frac{\\partial{J}}{\\partial{b}} = -\\frac{2}{N} \\sum_i (y_i - X_iW)1 = -\\frac{2}{N} \\sum_i (y_i - \\hat{y}_i)1$"
      ],
      "metadata": {
        "id": "z1gO21XFdKYV"
      }
    },
    {
      "cell_type": "code",
      "source": [
        "# Backward propagation\n",
        "dW = -(2/N) * np.sum((y_train - y_hat) * X_train)\n",
        "db = -(2/N) * np.sum((y_train - y_hat) * 1)\n",
        "\n",
        "dW, db"
      ],
      "metadata": {
        "colab": {
          "base_uri": "https://localhost:8080/"
        },
        "id": "LbKraA9mdLsh",
        "outputId": "b44343ad-5442-4d2e-dc0c-7715cbe458df"
      },
      "execution_count": 21,
      "outputs": [
        {
          "output_type": "execute_result",
          "data": {
            "text/plain": [
              "(-1.9966809200814866, -1.332267629550188e-16)"
            ]
          },
          "metadata": {},
          "execution_count": 21
        }
      ]
    },
    {
      "cell_type": "markdown",
      "source": [
        "> The gradient is the derivative, or the rate of change of a function. It's a vector that points in the direction of greatest increase of a function. For example the gradient of our loss function ($J$) with respect to our weights ($W$) will tell us how to change W so we can maximize $J$. However, we want to minimize our loss so we subtract the gradient from $W$. "
      ],
      "metadata": {
        "id": "3OjH50yvdYnE"
      }
    },
    {
      "cell_type": "markdown",
      "source": [
        "# Update weights"
      ],
      "metadata": {
        "id": "nW2_yiw4ddGs"
      }
    },
    {
      "cell_type": "markdown",
      "source": [
        "5. Update the weights $W$ using a small learning rate $\\alpha$.\n",
        "  * $W = W - \\alpha\\frac{\\partial{J}}{\\partial{W}}$\n",
        "  * $b = b - \\alpha\\frac{\\partial{J}}{\\partial{b}}$"
      ],
      "metadata": {
        "id": "couOhiLcdj_Q"
      }
    },
    {
      "cell_type": "code",
      "source": [
        "alpha = 0.01 # learning rate\n",
        "\n",
        "W += W - alpha * dW\n",
        "b += b - alpha *db"
      ],
      "metadata": {
        "id": "BPr58SsPdZoh"
      },
      "execution_count": 22,
      "outputs": []
    },
    {
      "cell_type": "markdown",
      "source": [
        "> The learning rate $\\alpha$ is a way to control how much we update the weights by. If we choose a small learning rate, it may take a long time for our model to train. However, if we choose a large learning rate, we may overshoot and our training will never converge. The specific learning rate depends on our data and the type of models we use but it's typically good to explore in the range of $[1e^{-8}, 1e^{-1}]$. We'll explore learning rate update strategies in later lessons."
      ],
      "metadata": {
        "id": "BT2k7jEQeLEt"
      }
    },
    {
      "cell_type": "markdown",
      "source": [
        "#Training"
      ],
      "metadata": {
        "id": "L2Ef3nZQeRh2"
      }
    },
    {
      "cell_type": "markdown",
      "source": [
        "6. Repeat steps 3 - 5 to minimize the loss and train the model."
      ],
      "metadata": {
        "id": "xxcSZPpreVji"
      }
    },
    {
      "cell_type": "code",
      "source": [
        "EPOCHS = 250\n",
        "alpha = 0.005 # learning rate"
      ],
      "metadata": {
        "id": "RIk8WcafeOKu"
      },
      "execution_count": 23,
      "outputs": []
    },
    {
      "cell_type": "code",
      "source": [
        "for epoch in range(1,EPOCHS + 1):\n",
        "  y_hat = np.dot(X_train, W) + b\n",
        "\n",
        "  loss = (1/N) * np.sum((y_train - y_hat)**2)\n",
        "\n",
        "  dW = -(2/N) * np.sum((y_train - y_hat) * X_train)\n",
        "  db = -(2/N) * np.sum((y_train - y_hat) * 1)\n",
        "\n",
        "  W += - alpha * dW\n",
        "  b += - alpha *db\n",
        "\n",
        "  if epoch % 10 == 0:\n",
        "        print (f\"Epoch: {epoch}, loss: {loss:.3f}\")\n"
      ],
      "metadata": {
        "colab": {
          "base_uri": "https://localhost:8080/"
        },
        "id": "-SKOlW90ea-g",
        "outputId": "02f55f09-5cbd-4b04-e7d7-ef38cea30b4b"
      },
      "execution_count": 24,
      "outputs": [
        {
          "output_type": "stream",
          "name": "stdout",
          "text": [
            "Epoch: 10, loss: 0.802\n",
            "Epoch: 20, loss: 0.657\n",
            "Epoch: 30, loss: 0.538\n",
            "Epoch: 40, loss: 0.440\n",
            "Epoch: 50, loss: 0.361\n",
            "Epoch: 60, loss: 0.296\n",
            "Epoch: 70, loss: 0.242\n",
            "Epoch: 80, loss: 0.199\n",
            "Epoch: 90, loss: 0.163\n",
            "Epoch: 100, loss: 0.134\n",
            "Epoch: 110, loss: 0.110\n",
            "Epoch: 120, loss: 0.091\n",
            "Epoch: 130, loss: 0.075\n",
            "Epoch: 140, loss: 0.062\n",
            "Epoch: 150, loss: 0.051\n",
            "Epoch: 160, loss: 0.042\n",
            "Epoch: 170, loss: 0.035\n",
            "Epoch: 180, loss: 0.029\n",
            "Epoch: 190, loss: 0.025\n",
            "Epoch: 200, loss: 0.021\n",
            "Epoch: 210, loss: 0.018\n",
            "Epoch: 220, loss: 0.015\n",
            "Epoch: 230, loss: 0.013\n",
            "Epoch: 240, loss: 0.011\n",
            "Epoch: 250, loss: 0.010\n"
          ]
        }
      ]
    },
    {
      "cell_type": "markdown",
      "source": [
        "#Evaluation"
      ],
      "metadata": {
        "id": "sV_WvbiqufUp"
      }
    },
    {
      "cell_type": "code",
      "source": [
        "pred_train = W*X_train + b\n",
        "pred_test = W*X_test + b"
      ],
      "metadata": {
        "id": "0O1vpkEjujD5"
      },
      "execution_count": 25,
      "outputs": []
    },
    {
      "cell_type": "code",
      "source": [
        "# Train and test MSE\n",
        "train_mse = np.mean((y_train - pred_train) ** 2)\n",
        "test_mse = np.mean((y_test - pred_test) ** 2)\n",
        "print (f\"train_MSE: {train_mse:.2f}, test_MSE: {test_mse:.2f}\")"
      ],
      "metadata": {
        "colab": {
          "base_uri": "https://localhost:8080/"
        },
        "id": "dUhoz326uleM",
        "outputId": "45129b8a-03a2-4cd3-a00f-341a404305ec"
      },
      "execution_count": 26,
      "outputs": [
        {
          "output_type": "stream",
          "name": "stdout",
          "text": [
            "train_MSE: 0.01, test_MSE: 0.01\n"
          ]
        }
      ]
    },
    {
      "cell_type": "code",
      "source": [
        "# Figure size\n",
        "plt.figure(figsize=(15,5))\n",
        "\n",
        "# Plot train data\n",
        "plt.subplot(1, 2, 1)\n",
        "plt.title(\"Train\")\n",
        "plt.scatter(X_train, y_train, label=\"y_train\")\n",
        "plt.plot(X_train, pred_train, color=\"red\", linewidth=1, linestyle=\"-\", label=\"model\")\n",
        "plt.legend(loc=\"lower right\")\n",
        "\n",
        "# Plot test data\n",
        "plt.subplot(1, 2, 2)\n",
        "plt.title(\"Test\")\n",
        "plt.scatter(X_test, y_test, label='y_test')\n",
        "plt.plot(X_test, pred_test, color=\"red\", linewidth=1, linestyle=\"-\", label=\"model\")\n",
        "plt.legend(loc=\"lower right\")\n",
        "\n",
        "# Show plots\n",
        "plt.show()"
      ],
      "metadata": {
        "colab": {
          "base_uri": "https://localhost:8080/",
          "height": 336
        },
        "id": "eyzcKKfnv1TC",
        "outputId": "0302d300-0b4f-4919-c380-1a2580954697"
      },
      "execution_count": 27,
      "outputs": [
        {
          "output_type": "display_data",
          "data": {
            "image/png": "[encoded data removed]",
            "text/plain": [
              "<Figure size 1080x360 with 2 Axes>"
            ]
          },
          "metadata": {
            "needs_background": "light"
          }
        }
      ]
    },
    {
      "cell_type": "markdown",
      "source": [
        "Since we standardized our inputs and outputs, our weights were fit to those standardized values. So we need to unstandardize our weights so we can compare it to our true weight (3.5).\n",
        "\n",
        "Note that both X and y were standardized.\n",
        "\n",
        "$\\hat{y}_{scaled} = b_{scaled} + \\sum_{j=1}^{k}W_{j}x_{{scaled}_j}$\n",
        "* $y_{scaled} = \\frac{\\hat{y}_{unscaled} - \\bar{y}}{\\sigma_y}$\n",
        "* $x_{scaled} = \\frac{x_j - \\bar{x}_j}{\\sigma_j}$\n",
        "\n",
        "$\\frac{\\hat{y} - \\bar{y}}{\\sigma_y} = b_{scaled} + \\sum_{j=1}^{k}W_{j}\\frac{x_j - \\bar{x}_j}{\\sigma_j}$\n",
        "\n",
        "$ \\hat{y}_{scaled} = \\frac{\\hat{y}_{unscaled} - \\bar{y}}{\\sigma_y} = {b_{scaled}} + \\sum_{j=1}^{k} {W}_{j} (\\frac{x_j - \\bar{x}_j}{\\sigma_j}) $\n",
        "\n",
        "$\\hat{y}_{unscaled} = b_{scaled}\\sigma_y + \\bar{y} - \\sum_{j=1}^{k} {W}_{j}(\\frac{\\sigma_y}{\\sigma_j})\\bar{x}_j + \\sum_{j=1}^{k}{W}_{j}(\\frac{\\sigma_y}{\\sigma_j})x_j $\n",
        "\n",
        "In the expression above, we can see the expression $\\hat{y}_{unscaled} = W_{unscaled}x + b_{unscaled} $ where\n",
        "\n",
        "* $W_{unscaled} = \\sum_{j=1}^{k}{W}_j(\\frac{\\sigma_y}{\\sigma_j}) $\n",
        "\n",
        "* $b_{unscaled} = b_{scaled}\\sigma_y + \\bar{y} - \\sum_{j=1}^{k} {W}_j(\\frac{\\sigma_y}{\\sigma_j})\\bar{x}_j$"
      ],
      "metadata": {
        "id": "liSnkkAW9cnc"
      }
    },
    {
      "cell_type": "code",
      "source": [
        "# Unscaled weights\n",
        "W_unscaled = W * (y_std/X_std)\n",
        "b_unscaled = b * y_std + y_mean - np.sum(W_unscaled*X_mean)\n",
        "print (\"[actual] y = 2.5X + 4 + noise\")\n",
        "print (f\"[model] y_hat = {W_unscaled[0][0]:.3f}X + {b_unscaled[0][0]:.3f}\") "
      ],
      "metadata": {
        "colab": {
          "base_uri": "https://localhost:8080/"
        },
        "id": "Yn1Rf8zP72T8",
        "outputId": "c9b396a8-437e-4a55-b4c4-44dde17fe2e9"
      },
      "execution_count": 28,
      "outputs": [
        {
          "output_type": "stream",
          "name": "stdout",
          "text": [
            "[actual] y = 2.5X + 4 + noise\n",
            "[model] y_hat = 2.312X + 26.515\n"
          ]
        }
      ]
    },
    {
      "cell_type": "code",
      "source": [
        "W_unscaled[0][0], b_unscaled[0][0]"
      ],
      "metadata": {
        "colab": {
          "base_uri": "https://localhost:8080/"
        },
        "id": "eoF6UFaY8U_5",
        "outputId": "8716ad49-a54e-41cb-e389-054e7f63c4eb"
      },
      "execution_count": 29,
      "outputs": [
        {
          "output_type": "execute_result",
          "data": {
            "text/plain": [
              "(2.312150981546769, 26.51509750752504)"
            ]
          },
          "metadata": {},
          "execution_count": 29
        }
      ]
    }
  ]
}